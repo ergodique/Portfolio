{
 "cells": [
  {
   "cell_type": "markdown",
   "metadata": {},
   "source": [
    "This is script for beta calculation. "
   ]
  },
  {
   "cell_type": "code",
   "execution_count": 3,
   "metadata": {},
   "outputs": [
    {
     "name": "stdout",
     "output_type": "stream",
     "text": [
      "Calculating betas for -->  BTC-USD\n",
      "       30_days   60_days   90_days  180_days  365_days    St_Dev\n",
      "BITO  0.807274  0.987281  1.028190  0.935312  0.949392  0.083259\n",
      "MARA  1.085880  1.168238  1.106713  0.949870  1.172887  0.090413\n",
      "RIOT  0.966081  1.111571  1.035311  0.955180  0.986998  0.064061\n",
      "COIN  0.864002  0.985603  1.013089  0.921927  0.904330  0.060770\n",
      "MSTR  1.137381  1.315865  1.377329  1.380463  1.377680  0.104416\n"
     ]
    }
   ],
   "source": [
    "import yfinance as yf\n",
    "import pandas as pd\n",
    "import numpy as np\n",
    "\n",
    "def calculate_beta(stock_returns, market_returns):\n",
    "    covariance_matrix = np.cov(stock_returns, market_returns)\n",
    "    beta = covariance_matrix[0, 1] / covariance_matrix[1, 1]\n",
    "    return beta\n",
    "\n",
    "def get_stock_data(ticker, start_date):\n",
    "    stock_data = yf.download(ticker, start=start_date, progress=False)\n",
    "    stock_data['Returns'] = stock_data['Adj Close'].pct_change()\n",
    "    return stock_data\n",
    "\n",
    "def calculate_betas(stock_tickers, reference_ticker, lookback_periods):\n",
    "    end_date = pd.to_datetime('today')\n",
    "    results = {}\n",
    "    \n",
    "    for stock in stock_tickers:\n",
    "        results[stock] = {}\n",
    "        for days in lookback_periods:\n",
    "            start_date = (end_date - pd.Timedelta(days=days)).strftime('%Y-%m-%d')\n",
    "            \n",
    "            stock_data = get_stock_data(stock, start_date)\n",
    "            reference_data = get_stock_data(reference_ticker, start_date)\n",
    "            \n",
    "            merged_data = pd.merge(stock_data['Returns'], reference_data['Returns'], left_index=True, right_index=True, suffixes=('_stock', '_reference')).dropna()\n",
    "            \n",
    "            stock_returns = merged_data['Returns_stock']\n",
    "            reference_returns = merged_data['Returns_reference']\n",
    "            \n",
    "            beta = calculate_beta(stock_returns, reference_returns)\n",
    "            results[stock][f'{days}_days'] = beta\n",
    "    \n",
    "    return pd.DataFrame(results)\n",
    "\n",
    "# Define the stocks and the reference stock\n",
    "stock_tickers = ['BITO', 'MARA', 'RIOT', 'COIN', 'MSTR']\n",
    "reference_ticker = 'BTC-USD'\n",
    "lookback_periods = [30, 60, 90, 180, 365]\n",
    "\n",
    "# Calculate the betas\n",
    "betas = calculate_betas(stock_tickers, reference_ticker, lookback_periods)\n",
    "\n",
    "# Transpose the DataFrame for better readability\n",
    "betas_transposed = betas.transpose()\n",
    "\n",
    "# Calculate the standard deviation of each stock's betas and add it as a new column\n",
    "betas_transposed['St_Dev'] = betas_transposed.std(axis=1)\n",
    "\n",
    "# Display the results\n",
    "print(\"Calculating betas for --> \", reference_ticker)\n",
    "print(betas_transposed)\n"
   ]
  }
 ],
 "metadata": {
  "kernelspec": {
   "display_name": ".venv",
   "language": "python",
   "name": "python3"
  },
  "language_info": {
   "codemirror_mode": {
    "name": "ipython",
    "version": 3
   },
   "file_extension": ".py",
   "mimetype": "text/x-python",
   "name": "python",
   "nbconvert_exporter": "python",
   "pygments_lexer": "ipython3",
   "version": "3.12.1"
  }
 },
 "nbformat": 4,
 "nbformat_minor": 2
}
