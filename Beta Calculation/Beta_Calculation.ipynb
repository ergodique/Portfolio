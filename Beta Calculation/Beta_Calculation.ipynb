{
 "cells": [
  {
   "cell_type": "markdown",
   "metadata": {},
   "source": [
    "This is script for beta calculation. "
   ]
  },
  {
   "cell_type": "code",
   "execution_count": 1,
   "metadata": {},
   "outputs": [
    {
     "name": "stdout",
     "output_type": "stream",
     "text": [
      "Calculating betas for -->  BTC-USD\n",
      "           30_days   60_days   90_days  180_days  365_days    St_Dev\n",
      "SOL-USD   1.032503  1.041532  1.043706  1.119379  1.137385  0.049413\n",
      "AVAX-USD  1.745929  1.261305  1.226624  1.238010  1.211114  0.229554\n",
      "ETH-USD   1.154680  0.929753  0.959736  1.023488  0.969523  0.089003\n",
      "BNB-USD   0.781791  0.567609  0.596858  0.709690  0.703821  0.088078\n"
     ]
    }
   ],
   "source": [
    "import yfinance as yf\n",
    "import pandas as pd\n",
    "import numpy as np\n",
    "\n",
    "def calculate_beta(stock_returns, market_returns):\n",
    "    covariance_matrix = np.cov(stock_returns, market_returns)\n",
    "    beta = covariance_matrix[0, 1] / covariance_matrix[1, 1]\n",
    "    return beta\n",
    "\n",
    "def get_stock_data(ticker, start_date):\n",
    "    stock_data = yf.download(ticker, start=start_date, progress=False)\n",
    "    stock_data['Returns'] = stock_data['Adj Close'].pct_change()\n",
    "    return stock_data\n",
    "\n",
    "def calculate_betas(stock_tickers, reference_ticker, lookback_periods):\n",
    "    end_date = pd.to_datetime('today')\n",
    "    results = {}\n",
    "    \n",
    "    for stock in stock_tickers:\n",
    "        results[stock] = {}\n",
    "        for days in lookback_periods:\n",
    "            start_date = (end_date - pd.Timedelta(days=days)).strftime('%Y-%m-%d')\n",
    "            \n",
    "            stock_data = get_stock_data(stock, start_date)\n",
    "            reference_data = get_stock_data(reference_ticker, start_date)\n",
    "            \n",
    "            merged_data = pd.merge(stock_data['Returns'], reference_data['Returns'], left_index=True, right_index=True, suffixes=('_stock', '_reference')).dropna()\n",
    "            \n",
    "            stock_returns = merged_data['Returns_stock']\n",
    "            reference_returns = merged_data['Returns_reference']\n",
    "            \n",
    "            beta = calculate_beta(stock_returns, reference_returns)\n",
    "            results[stock][f'{days}_days'] = beta\n",
    "    \n",
    "    return pd.DataFrame(results)\n",
    "\n",
    "# Define the stocks and the reference stock\n",
    "stock_tickers = ['SOL-USD', 'AVAX-USD', 'ETH-USD','BNB-USD']\n",
    "reference_ticker = 'BTC-USD'\n",
    "lookback_periods = [30, 60, 90, 180, 365]\n",
    "\n",
    "# Calculate the betas\n",
    "betas = calculate_betas(stock_tickers, reference_ticker, lookback_periods)\n",
    "\n",
    "# Transpose the DataFrame for better readability\n",
    "betas_transposed = betas.transpose()\n",
    "\n",
    "# Calculate the standard deviation of each stock's betas and add it as a new column\n",
    "betas_transposed['St_Dev'] = betas_transposed.std(axis=1)\n",
    "\n",
    "# Display the results\n",
    "print(\"Calculating betas for --> \", reference_ticker)\n",
    "print(betas_transposed)\n"
   ]
  }
 ],
 "metadata": {
  "kernelspec": {
   "display_name": ".venv",
   "language": "python",
   "name": "python3"
  },
  "language_info": {
   "codemirror_mode": {
    "name": "ipython",
    "version": 3
   },
   "file_extension": ".py",
   "mimetype": "text/x-python",
   "name": "python",
   "nbconvert_exporter": "python",
   "pygments_lexer": "ipython3",
   "version": "3.12.1"
  }
 },
 "nbformat": 4,
 "nbformat_minor": 2
}
