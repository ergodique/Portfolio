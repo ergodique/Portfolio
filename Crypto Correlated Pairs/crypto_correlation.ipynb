{
 "cells": [
  {
   "cell_type": "markdown",
   "metadata": {},
   "source": [
    "This code finds uncorrelated, high volume USDT pairs to trade in Binance"
   ]
  },
  {
   "cell_type": "markdown",
   "metadata": {},
   "source": [
    "This code is helpful for finding uncorrolated XXXUSDT pairs to trade on Binance Exchange"
   ]
  },
  {
   "cell_type": "code",
   "execution_count": 7,
   "metadata": {},
   "outputs": [
    {
     "name": "stderr",
     "output_type": "stream",
     "text": [
      "C:\\Users\\PC\\AppData\\Local\\Temp\\ipykernel_2548\\1970768709.py:23: FutureWarning: use_inf_as_na option is deprecated and will be removed in a future version. Convert inf values to NaN before operating instead.\n",
      "  pd.options.mode.use_inf_as_na = True\n"
     ]
    },
    {
     "name": "stdout",
     "output_type": "stream",
     "text": [
      "Selected Pairs: ['BTCUSDT', 'ETHUSDT', 'BNBUSDT', 'BCCUSDT', 'NEOUSDT', 'LTCUSDT', 'QTUMUSDT', 'ADAUSDT', 'XRPUSDT', 'EOSUSDT', 'TUSDUSDT', 'IOTAUSDT', 'XLMUSDT', 'ONTUSDT', 'TRXUSDT', 'ETCUSDT', 'ICXUSDT', 'VENUSDT', 'NULSUSDT', 'VETUSDT', 'PAXUSDT', 'BCHABCUSDT', 'BCHSVUSDT', 'USDCUSDT', 'LINKUSDT', 'WAVESUSDT', 'BTTUSDT', 'USDSUSDT', 'ONGUSDT', 'HOTUSDT', 'ZILUSDT', 'ZRXUSDT', 'FETUSDT', 'BATUSDT', 'XMRUSDT', 'ZECUSDT', 'IOSTUSDT', 'CELRUSDT', 'DASHUSDT', 'NANOUSDT', 'OMGUSDT', 'THETAUSDT', 'ENJUSDT', 'MITHUSDT', 'MATICUSDT', 'ATOMUSDT', 'TFUELUSDT', 'ONEUSDT', 'FTMUSDT', 'ALGOUSDT', 'USDSBUSDT', 'GTOUSDT', 'ERDUSDT', 'DOGEUSDT', 'DUSKUSDT', 'ANKRUSDT', 'WINUSDT', 'COSUSDT', 'NPXSUSDT', 'COCOSUSDT', 'MTLUSDT', 'TOMOUSDT', 'PERLUSDT', 'DENTUSDT', 'MFTUSDT', 'KEYUSDT', 'STORMUSDT', 'DOCKUSDT', 'WANUSDT', 'FUNUSDT', 'CVCUSDT', 'CHZUSDT', 'BANDUSDT', 'BUSDUSDT', 'BEAMUSDT', 'XTZUSDT', 'RENUSDT', 'RVNUSDT', 'HCUSDT', 'HBARUSDT', 'NKNUSDT', 'STXUSDT', 'KAVAUSDT', 'ARPAUSDT', 'IOTXUSDT', 'RLCUSDT', 'MCOUSDT', 'CTXCUSDT', 'BCHUSDT', 'TROYUSDT', 'VITEUSDT', 'FTTUSDT', 'EURUSDT', 'OGNUSDT', 'DREPUSDT', 'BULLUSDT', 'BEARUSDT', 'ETHBULLUSDT', 'ETHBEARUSDT', 'TCTUSDT', 'WRXUSDT', 'BTSUSDT', 'LSKUSDT', 'BNTUSDT', 'LTOUSDT', 'EOSBULLUSDT', 'EOSBEARUSDT', 'XRPBULLUSDT', 'XRPBEARUSDT', 'STRATUSDT', 'AIONUSDT', 'MBLUSDT', 'COTIUSDT', 'BNBBULLUSDT', 'BNBBEARUSDT', 'STPTUSDT', 'WTCUSDT', 'DATAUSDT', 'XZCUSDT', 'SOLUSDT', 'CTSIUSDT', 'HIVEUSDT', 'CHRUSDT', 'BTCUPUSDT', 'BTCDOWNUSDT', 'GXSUSDT', 'ARDRUSDT', 'LENDUSDT', 'MDTUSDT', 'STMXUSDT', 'KNCUSDT', 'REPUSDT', 'LRCUSDT', 'PNTUSDT', 'COMPUSDT', 'BKRWUSDT', 'SCUSDT', 'ZENUSDT', 'SNXUSDT', 'ETHUPUSDT', 'ETHDOWNUSDT', 'ADAUPUSDT', 'ADADOWNUSDT', 'LINKUPUSDT', 'LINKDOWNUSDT', 'VTHOUSDT', 'DGBUSDT', 'GBPUSDT', 'SXPUSDT', 'MKRUSDT', 'DAIUSDT', 'DCRUSDT', 'STORJUSDT', 'BNBUPUSDT', 'BNBDOWNUSDT', 'XTZUPUSDT', 'XTZDOWNUSDT', 'MANAUSDT', 'AUDUSDT', 'YFIUSDT', 'BALUSDT', 'BLZUSDT', 'IRISUSDT', 'KMDUSDT', 'JSTUSDT', 'SRMUSDT', 'ANTUSDT', 'CRVUSDT', 'SANDUSDT', 'OCEANUSDT', 'NMRUSDT', 'DOTUSDT', 'LUNAUSDT', 'RSRUSDT', 'PAXGUSDT', 'WNXMUSDT', 'TRBUSDT', 'BZRXUSDT', 'SUSHIUSDT', 'YFIIUSDT', 'KSMUSDT', 'EGLDUSDT', 'DIAUSDT', 'RUNEUSDT', 'FIOUSDT', 'UMAUSDT', 'EOSUPUSDT', 'EOSDOWNUSDT', 'TRXUPUSDT', 'TRXDOWNUSDT', 'XRPUPUSDT', 'XRPDOWNUSDT', 'DOTUPUSDT', 'DOTDOWNUSDT', 'BELUSDT', 'WINGUSDT', 'LTCUPUSDT', 'LTCDOWNUSDT', 'UNIUSDT', 'NBSUSDT', 'OXTUSDT', 'SUNUSDT', 'AVAXUSDT', 'HNTUSDT', 'FLMUSDT', 'UNIUPUSDT', 'UNIDOWNUSDT', 'ORNUSDT', 'UTKUSDT', 'XVSUSDT', 'ALPHAUSDT', 'AAVEUSDT', 'NEARUSDT', 'SXPUPUSDT', 'SXPDOWNUSDT', 'FILUSDT', 'FILUPUSDT', 'FILDOWNUSDT', 'YFIUPUSDT', 'YFIDOWNUSDT', 'INJUSDT', 'AUDIOUSDT', 'CTKUSDT', 'BCHUPUSDT', 'BCHDOWNUSDT', 'AKROUSDT', 'AXSUSDT', 'HARDUSDT', 'DNTUSDT', 'STRAXUSDT', 'UNFIUSDT', 'ROSEUSDT', 'AVAUSDT', 'XEMUSDT', 'AAVEUPUSDT', 'AAVEDOWNUSDT', 'SKLUSDT', 'SUSDUSDT', 'SUSHIUPUSDT', 'SUSHIDOWNUSDT', 'XLMUPUSDT', 'XLMDOWNUSDT', 'GRTUSDT', 'JUVUSDT', 'PSGUSDT', '1INCHUSDT', 'REEFUSDT', 'OGUSDT', 'ATMUSDT', 'ASRUSDT', 'CELOUSDT', 'RIFUSDT', 'BTCSTUSDT', 'TRUUSDT', 'CKBUSDT', 'TWTUSDT', 'FIROUSDT', 'LITUSDT', 'SFPUSDT', 'DODOUSDT', 'CAKEUSDT', 'ACMUSDT', 'BADGERUSDT', 'FISUSDT', 'OMUSDT', 'PONDUSDT', 'DEGOUSDT', 'ALICEUSDT', 'LINAUSDT', 'PERPUSDT', 'RAMPUSDT', 'SUPERUSDT', 'CFXUSDT', 'EPSUSDT', 'AUTOUSDT', 'TKOUSDT', 'PUNDIXUSDT', 'TLMUSDT', '1INCHUPUSDT', '1INCHDOWNUSDT', 'BTGUSDT', 'MIRUSDT', 'BARUSDT', 'FORTHUSDT', 'BAKEUSDT', 'BURGERUSDT', 'SLPUSDT', 'SHIBUSDT', 'ICPUSDT', 'ARUSDT', 'POLSUSDT', 'MDXUSDT', 'MASKUSDT', 'LPTUSDT', 'NUUSDT', 'XVGUSDT', 'ATAUSDT', 'GTCUSDT', 'TORNUSDT', 'KEEPUSDT', 'ERNUSDT', 'KLAYUSDT', 'PHAUSDT', 'BONDUSDT', 'MLNUSDT', 'DEXEUSDT', 'C98USDT', 'CLVUSDT', 'QNTUSDT', 'FLOWUSDT', 'TVKUSDT', 'MINAUSDT', 'RAYUSDT', 'FARMUSDT', 'ALPACAUSDT', 'QUICKUSDT', 'MBOXUSDT', 'FORUSDT', 'REQUSDT', 'GHSTUSDT', 'WAXPUSDT', 'TRIBEUSDT', 'GNOUSDT', 'XECUSDT', 'ELFUSDT', 'DYDXUSDT', 'POLYUSDT', 'IDEXUSDT', 'VIDTUSDT', 'USDPUSDT', 'GALAUSDT', 'ILVUSDT', 'YGGUSDT', 'SYSUSDT', 'DFUSDT', 'FIDAUSDT', 'FRONTUSDT', 'CVPUSDT', 'AGLDUSDT', 'RADUSDT', 'BETAUSDT', 'RAREUSDT', 'LAZIOUSDT', 'CHESSUSDT', 'ADXUSDT', 'AUCTIONUSDT', 'DARUSDT', 'BNXUSDT', 'RGTUSDT', 'MOVRUSDT', 'CITYUSDT', 'ENSUSDT', 'KP3RUSDT', 'QIUSDT', 'PORTOUSDT', 'POWRUSDT', 'VGXUSDT', 'JASMYUSDT', 'AMPUSDT', 'PLAUSDT', 'PYRUSDT', 'RNDRUSDT', 'ALCXUSDT', 'SANTOSUSDT', 'MCUSDT', 'ANYUSDT', 'BICOUSDT', 'FLUXUSDT', 'FXSUSDT', 'VOXELUSDT', 'HIGHUSDT', 'CVXUSDT', 'PEOPLEUSDT', 'OOKIUSDT', 'SPELLUSDT', 'USTUSDT', 'JOEUSDT', 'ACHUSDT', 'IMXUSDT', 'GLMRUSDT', 'LOKAUSDT', 'SCRTUSDT', 'API3USDT', 'BTTCUSDT', 'ACAUSDT', 'ANCUSDT', 'XNOUSDT', 'WOOUSDT', 'ALPINEUSDT', 'TUSDT', 'ASTRUSDT', 'NBTUSDT', 'GMTUSDT', 'KDAUSDT', 'APEUSDT', 'BSWUSDT', 'BIFIUSDT', 'MULTIUSDT', 'STEEMUSDT', 'MOBUSDT', 'NEXOUSDT', 'REIUSDT', 'GALUSDT', 'LDOUSDT', 'EPXUSDT', 'OPUSDT', 'LEVERUSDT', 'STGUSDT', 'LUNCUSDT', 'GMXUSDT', 'NEBLUSDT', 'POLYXUSDT', 'APTUSDT', 'OSMOUSDT', 'HFTUSDT', 'PHBUSDT', 'HOOKUSDT', 'MAGICUSDT', 'HIFIUSDT', 'RPLUSDT', 'PROSUSDT', 'AGIXUSDT', 'GNSUSDT', 'SYNUSDT', 'VIBUSDT', 'SSVUSDT', 'LQTYUSDT', 'AMBUSDT', 'BETHUSDT', 'USTCUSDT', 'GASUSDT', 'GLMUSDT', 'PROMUSDT', 'QKCUSDT', 'UFTUSDT', 'IDUSDT', 'ARBUSDT', 'LOOMUSDT', 'OAXUSDT', 'RDNTUSDT', 'WBTCUSDT', 'EDUUSDT', 'SUIUSDT', 'AERGOUSDT', 'PEPEUSDT', 'FLOKIUSDT', 'ASTUSDT', 'SNTUSDT', 'COMBOUSDT', 'MAVUSDT', 'PENDLEUSDT', 'ARKMUSDT', 'WBETHUSDT', 'WLDUSDT', 'FDUSDUSDT', 'SEIUSDT', 'CYBERUSDT', 'ARKUSDT', 'CREAMUSDT', 'GFTUSDT', 'IQUSDT', 'NTRNUSDT', 'TIAUSDT', 'MEMEUSDT', 'ORDIUSDT', 'BEAMXUSDT', 'PIVXUSDT', 'VICUSDT', 'BLURUSDT', 'VANRYUSDT', 'AEURUSDT', 'JTOUSDT', '1000SATSUSDT', 'BONKUSDT', 'ACEUSDT', 'NFPUSDT', 'AIUSDT', 'XAIUSDT', 'MANTAUSDT', 'ALTUSDT', 'JUPUSDT', 'PYTHUSDT', 'RONINUSDT', 'DYMUSDT', 'PIXELUSDT', 'STRKUSDT', 'PORTALUSDT', 'PDAUSDT', 'AXLUSDT', 'WIFUSDT', 'METISUSDT', 'AEVOUSDT', 'BOMEUSDT', 'ETHFIUSDT', 'ENAUSDT', 'WUSDT', 'TNSRUSDT', 'SAGAUSDT', 'TAOUSDT', 'OMNIUSDT', 'REZUSDT', 'BBUSDT', 'NOTUSDT', 'IOUSDT', 'ZKUSDT', 'LISTAUSDT', 'ZROUSDT', 'GUSDT', 'BANANAUSDT', 'RENDERUSDT', 'TONUSDT', 'DOGSUSDT', 'EURIUSDT', 'SLFUSDT', 'POLUSDT', 'NEIROUSDT', 'TURBOUSDT', '1MBABYDOGEUSDT', 'CATIUSDT']\n",
      "Korelasyon verileri C:/Users/PC/Desktop/correlation_output.xlsx dosyasına yazıldı.\n"
     ]
    }
   ],
   "source": [
    "from binance.client import Client\n",
    "import pandas as pd\n",
    "import numpy as np\n",
    "from datetime import datetime, timedelta\n",
    "import IPython.display as display\n",
    "\n",
    "# Read API keys from the keys file\n",
    "keys_file_path = 'C:/Users/PC/Desktop/keys.txt'\n",
    "\n",
    "with open(keys_file_path, 'r') as f:\n",
    "    lines = f.readlines()\n",
    "\n",
    "api_key_line = lines[0]\n",
    "api_secret_line = lines[1]\n",
    "\n",
    "api_key = api_key_line.split('=')[1].strip().strip(\"'\").strip('\"')\n",
    "api_secret = api_secret_line.split('=')[1].strip().strip(\"'\").strip('\"')\n",
    "\n",
    "client = Client(api_key, api_secret)\n",
    "\n",
    "# Pandas uyarılarını kapat\n",
    "pd.options.mode.chained_assignment = None  # default='warn'\n",
    "pd.options.mode.use_inf_as_na = True\n",
    "\n",
    "# XXXUSDT paritelerini bul ve ilk 5 pariteyi seç\n",
    "tickers = client.get_all_tickers()\n",
    "usdt_pairs = [ticker['symbol'] for ticker in tickers if ticker['symbol'].endswith('USDT') and ticker['symbol'] != 'USDTUSDT']\n",
    "#usdt_pairs = [ticker['symbol'] for ticker in tickers if ticker['symbol'].endswith('USDT') and ticker['symbol'] != 'USDTUSDT'][:5]\n",
    "print(\"Selected Pairs:\", usdt_pairs)\n",
    "\n",
    "# Veri toplama fonksiyonu\n",
    "def fetch_klines(symbol, interval, start_date, end_date):\n",
    "    return client.get_historical_klines(symbol, interval, start_date.strftime('%d %b %Y %H:%M:%S'), end_date.strftime('%d %b %Y %H:%M:%S'))\n",
    "\n",
    "# Son 1 yıl, son 3 ay ve son 1 ay için veri periyotlarını belirle\n",
    "end_date = datetime.now()\n",
    "start_date_1y = end_date - timedelta(days=365)\n",
    "start_date_3m = end_date - timedelta(days=90)\n",
    "start_date_1m = end_date - timedelta(days=30)\n",
    "\n",
    "# Kapanış fiyatları için veri toplama\n",
    "klines_1y = {pair: fetch_klines(pair, Client.KLINE_INTERVAL_1DAY, start_date_1y, end_date) for pair in usdt_pairs}\n",
    "klines_3m = {pair: fetch_klines(pair, Client.KLINE_INTERVAL_1DAY, start_date_3m, end_date) for pair in usdt_pairs}\n",
    "klines_1m = {pair: fetch_klines(pair, Client.KLINE_INTERVAL_1DAY, start_date_1m, end_date) for pair in usdt_pairs}\n",
    "\n",
    "# Fiyat verilerini DataFrame'e dönüştürme\n",
    "def klines_to_df(klines):\n",
    "    return pd.DataFrame({\n",
    "        'open_time': [datetime.fromtimestamp(entry[0] / 1000) for entry in klines],\n",
    "        'close': [float(entry[4]) for entry in klines]\n",
    "    })\n",
    "\n",
    "dfs_1y = {pair: klines_to_df(klines) for pair, klines in klines_1y.items()}\n",
    "dfs_3m = {pair: klines_to_df(klines) for pair, klines in klines_3m.items()}\n",
    "dfs_1m = {pair: klines_to_df(klines) for pair, klines in klines_1m.items()}\n",
    "\n",
    "# Kapanış fiyatlarını birleştir\n",
    "def merge_close_prices(dfs):\n",
    "    close_prices = pd.concat({pair: df['close'] for pair, df in dfs.items()}, axis=1)\n",
    "    close_prices.index = dfs[usdt_pairs[0]]['open_time']\n",
    "    return close_prices\n",
    "\n",
    "close_prices_1y = merge_close_prices(dfs_1y)\n",
    "close_prices_3m = merge_close_prices(dfs_3m)\n",
    "close_prices_1m = merge_close_prices(dfs_1m)\n",
    "\n",
    "# Korelasyonları hesapla\n",
    "correlation_matrix_1y = close_prices_1y.corr().round(2)\n",
    "correlation_matrix_3m = close_prices_3m.corr().round(2)\n",
    "correlation_matrix_1m = close_prices_1m.corr().round(2)\n",
    "\n",
    "# NaN değerleri içeren sütunları ve satırları çıkar\n",
    "correlation_matrix_1y = correlation_matrix_1y.dropna(axis=0, how='all').dropna(axis=1, how='all')\n",
    "correlation_matrix_3m = correlation_matrix_3m.dropna(axis=0, how='all').dropna(axis=1, how='all')\n",
    "correlation_matrix_1m = correlation_matrix_1m.dropna(axis=0, how='all').dropna(axis=1, how='all')\n",
    "\n",
    "# Korelasyonu corr_threshold'dan az olan pariteleri filtreleme\n",
    "corr_threshold = 1  # Bu değeri parametrik olarak değiştirebilirsiniz\n",
    "filtered_corr_1y = correlation_matrix_1y[correlation_matrix_1y <= corr_threshold]\n",
    "filtered_corr_3m = correlation_matrix_3m[correlation_matrix_3m <= corr_threshold]\n",
    "filtered_corr_1m = correlation_matrix_1m[correlation_matrix_1m <= corr_threshold]\n",
    "\n",
    "# Sadece NaN olmayan değerleri içeren DataFrame'ler oluşturma\n",
    "filtered_corr_1y = filtered_corr_1y.dropna(how='all', axis=0).dropna(how='all', axis=1)\n",
    "filtered_corr_3m = filtered_corr_3m.dropna(how='all', axis=0).dropna(how='all', axis=1)\n",
    "filtered_corr_1m = filtered_corr_1m.dropna(how='all', axis=0).dropna(how='all', axis=1)\n",
    "\n",
    "# Pop-up tablo gösterme\n",
    "# print(f\"1-Year Correlation Matrix (Filtered < {corr_threshold}):\")\n",
    "# display.display(filtered_corr_1y)\n",
    "\n",
    "# print(f\"3-Month Correlation Matrix (Filtered < {corr_threshold}):\")\n",
    "# display.display(filtered_corr_3m)\n",
    "\n",
    "# print(f\"1-Month Correlation Matrix (Filtered < {corr_threshold}):\")\n",
    "# display.display(filtered_corr_1m)\n",
    "\n",
    "# Excel dosyasına yazma\n",
    "output_file = 'C:/Users/PC/Desktop/correlation_output.xlsx'  # Çıktı dosyasının yolu\n",
    "with pd.ExcelWriter(output_file, engine='xlsxwriter') as writer:\n",
    "    filtered_corr_1m.to_excel(writer, sheet_name='1-Month Correlation')\n",
    "    filtered_corr_3m.to_excel(writer, sheet_name='3-Month Correlation')\n",
    "    filtered_corr_1y.to_excel(writer, sheet_name='1-Year Correlation')\n",
    "\n",
    "print(f\"Korelasyon verileri {output_file} dosyasına yazıldı.\")\n"
   ]
  }
 ],
 "metadata": {
  "kernelspec": {
   "display_name": "Python 3",
   "language": "python",
   "name": "python3"
  },
  "language_info": {
   "codemirror_mode": {
    "name": "ipython",
    "version": 3
   },
   "file_extension": ".py",
   "mimetype": "text/x-python",
   "name": "python",
   "nbconvert_exporter": "python",
   "pygments_lexer": "ipython3",
   "version": "3.12.1"
  }
 },
 "nbformat": 4,
 "nbformat_minor": 2
}
