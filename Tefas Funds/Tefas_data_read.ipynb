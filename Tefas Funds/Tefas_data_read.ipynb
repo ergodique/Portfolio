{
 "cells": [
  {
   "cell_type": "code",
   "execution_count": null,
   "id": "0da8e996",
   "metadata": {},
   "outputs": [],
   "source": [
    "import pandas as pd\n",
    "from pathlib import Path\n",
    "\n",
    "# ==== 1) Okunacak Parquet dosyasını belirtin ====\n",
    "parquet_file = Path(\"data/tefas_1ay_test.parquet\")   # burayı değiştirin\n",
    "\n",
    "# ===============================================\n",
    "\n",
    "# Parquet dosyasını oku\n",
    "if not parquet_file.exists():\n",
    "    raise FileNotFoundError(f\"Parquet bulunamadı: {parquet_file}\")\n",
    "\n",
    "df = pd.read_parquet(parquet_file)\n",
    "display(df.head())                 # ilk satırları göster\n",
    "print(f\"Satır: {len(df):,}  |  Sütun: {df.shape[1]}\")\n",
    "\n",
    "# ==== 2) Excel’e dönüştür ====\n",
    "excel_file = parquet_file.with_suffix(\".xlsx\")\n",
    "df.to_excel(excel_file, index=False)\n",
    "print(f\"Excel dosyası oluşturuldu: {excel_file}\")"
   ]
  }
 ],
 "metadata": {
  "kernelspec": {
   "display_name": ".venv",
   "language": "python",
   "name": "python3"
  },
  "language_info": {
   "name": "python",
   "version": "3.13.3"
  }
 },
 "nbformat": 4,
 "nbformat_minor": 5
}
