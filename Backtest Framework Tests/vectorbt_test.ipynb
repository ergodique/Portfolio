{
 "cells": [
  {
   "cell_type": "code",
   "execution_count": 14,
   "metadata": {},
   "outputs": [
    {
     "name": "stdout",
     "output_type": "stream",
     "text": [
      "► Veri okunuyor…\n",
      "\n",
      "=== 1) PARAMETRE TARAMASI BAŞLADI ===\n"
     ]
    },
    {
     "name": "stderr",
     "output_type": "stream",
     "text": [
      "C:\\Users\\PC\\AppData\\Local\\Temp\\ipykernel_2740\\2095726279.py:21: FutureWarning:\n",
      "\n",
      "'H' is deprecated and will be removed in a future version, please use 'h' instead.\n",
      "\n"
     ]
    },
    {
     "data": {
      "application/vnd.jupyter.widget-view+json": {
       "model_id": "31dbf52c109f4dc5aff49a26da7a38d1",
       "version_major": 2,
       "version_minor": 0
      },
      "text/plain": [
       "Grid:   0%|          | 0/49 [00:00<?, ?it/s]"
      ]
     },
     "metadata": {},
     "output_type": "display_data"
    },
    {
     "name": "stdout",
     "output_type": "stream",
     "text": [
      "→ En iyi Sharpe: -0.06  (fast=15, slow=60)\n",
      "\n",
      "=== 2) OUT-OF-SAMPLE TEST BAŞLIYOR ===\n",
      "total_return    0.084342\n",
      "sharpe          1.279349\n",
      "max_drawdown   -0.035873\n",
      "dtype: float64\n"
     ]
    },
    {
     "ename": "ValueError",
     "evalue": "Mime type rendering requires nbformat>=4.2.0 but it is not installed",
     "output_type": "error",
     "traceback": [
      "\u001b[31m---------------------------------------------------------------------------\u001b[39m",
      "\u001b[31mValueError\u001b[39m                                Traceback (most recent call last)",
      "\u001b[36mCell\u001b[39m\u001b[36m \u001b[39m\u001b[32mIn[14]\u001b[39m\u001b[32m, line 69\u001b[39m\n\u001b[32m     63\u001b[39m oos_stats = pd.Series({\n\u001b[32m     64\u001b[39m     \u001b[33m\"\u001b[39m\u001b[33mtotal_return\u001b[39m\u001b[33m\"\u001b[39m:   pf_o.total_return(),\n\u001b[32m     65\u001b[39m     \u001b[33m\"\u001b[39m\u001b[33msharpe\u001b[39m\u001b[33m\"\u001b[39m:         pf_o.sharpe_ratio(freq=FREQ_STR),\n\u001b[32m     66\u001b[39m     \u001b[33m\"\u001b[39m\u001b[33mmax_drawdown\u001b[39m\u001b[33m\"\u001b[39m:   pf_o.max_drawdown()\n\u001b[32m     67\u001b[39m })\n\u001b[32m     68\u001b[39m \u001b[38;5;28mprint\u001b[39m(oos_stats)\n\u001b[32m---> \u001b[39m\u001b[32m69\u001b[39m \u001b[43mpf_o\u001b[49m\u001b[43m.\u001b[49m\u001b[43mplot\u001b[49m\u001b[43m(\u001b[49m\u001b[43m)\u001b[49m\u001b[43m.\u001b[49m\u001b[43mshow\u001b[49m\u001b[43m(\u001b[49m\u001b[43m)\u001b[49m\n\u001b[32m     73\u001b[39m \u001b[38;5;66;03m# -------- 3) MONTE-CARLO ---------------------------------------------------\u001b[39;00m\n\u001b[32m     74\u001b[39m \u001b[38;5;28mprint\u001b[39m(\u001b[33m\"\u001b[39m\u001b[38;5;130;01m\\n\u001b[39;00m\u001b[33m=== 3) MONTE-CARLO SİMÜLASYONU ===\u001b[39m\u001b[33m\"\u001b[39m)\n",
      "\u001b[36mFile \u001b[39m\u001b[32mc:\\Users\\PC\\Documents\\GitHub\\Portfolio\\.venv\\Lib\\site-packages\\vectorbt\\utils\\figure.py:78\u001b[39m, in \u001b[36mFigureWidget.show\u001b[39m\u001b[34m(self, *args, **kwargs)\u001b[39m\n\u001b[32m     76\u001b[39m fig_kwargs = \u001b[38;5;28mdict\u001b[39m(width=\u001b[38;5;28mself\u001b[39m.layout.width, height=\u001b[38;5;28mself\u001b[39m.layout.height)\n\u001b[32m     77\u001b[39m show_kwargs = merge_dicts(fig_kwargs, plotting_cfg[\u001b[33m'\u001b[39m\u001b[33mshow_kwargs\u001b[39m\u001b[33m'\u001b[39m], kwargs)\n\u001b[32m---> \u001b[39m\u001b[32m78\u001b[39m \u001b[43m_Figure\u001b[49m\u001b[43m.\u001b[49m\u001b[43mshow\u001b[49m\u001b[43m(\u001b[49m\u001b[38;5;28;43mself\u001b[39;49m\u001b[43m,\u001b[49m\u001b[43m \u001b[49m\u001b[43m*\u001b[49m\u001b[43margs\u001b[49m\u001b[43m,\u001b[49m\u001b[43m \u001b[49m\u001b[43m*\u001b[49m\u001b[43m*\u001b[49m\u001b[43mshow_kwargs\u001b[49m\u001b[43m)\u001b[49m\n",
      "\u001b[36mFile \u001b[39m\u001b[32mc:\\Users\\PC\\Documents\\GitHub\\Portfolio\\.venv\\Lib\\site-packages\\plotly\\basedatatypes.py:3410\u001b[39m, in \u001b[36mBaseFigure.show\u001b[39m\u001b[34m(self, *args, **kwargs)\u001b[39m\n\u001b[32m   3377\u001b[39m \u001b[38;5;250m\u001b[39m\u001b[33;03m\"\"\"\u001b[39;00m\n\u001b[32m   3378\u001b[39m \u001b[33;03mShow a figure using either the default renderer(s) or the renderer(s)\u001b[39;00m\n\u001b[32m   3379\u001b[39m \u001b[33;03mspecified by the renderer argument\u001b[39;00m\n\u001b[32m   (...)\u001b[39m\u001b[32m   3406\u001b[39m \u001b[33;03mNone\u001b[39;00m\n\u001b[32m   3407\u001b[39m \u001b[33;03m\"\"\"\u001b[39;00m\n\u001b[32m   3408\u001b[39m \u001b[38;5;28;01mimport\u001b[39;00m\u001b[38;5;250m \u001b[39m\u001b[34;01mplotly\u001b[39;00m\u001b[34;01m.\u001b[39;00m\u001b[34;01mio\u001b[39;00m\u001b[38;5;250m \u001b[39m\u001b[38;5;28;01mas\u001b[39;00m\u001b[38;5;250m \u001b[39m\u001b[34;01mpio\u001b[39;00m\n\u001b[32m-> \u001b[39m\u001b[32m3410\u001b[39m \u001b[38;5;28;01mreturn\u001b[39;00m \u001b[43mpio\u001b[49m\u001b[43m.\u001b[49m\u001b[43mshow\u001b[49m\u001b[43m(\u001b[49m\u001b[38;5;28;43mself\u001b[39;49m\u001b[43m,\u001b[49m\u001b[43m \u001b[49m\u001b[43m*\u001b[49m\u001b[43margs\u001b[49m\u001b[43m,\u001b[49m\u001b[43m \u001b[49m\u001b[43m*\u001b[49m\u001b[43m*\u001b[49m\u001b[43mkwargs\u001b[49m\u001b[43m)\u001b[49m\n",
      "\u001b[36mFile \u001b[39m\u001b[32mc:\\Users\\PC\\Documents\\GitHub\\Portfolio\\.venv\\Lib\\site-packages\\plotly\\io\\_renderers.py:394\u001b[39m, in \u001b[36mshow\u001b[39m\u001b[34m(fig, renderer, validate, **kwargs)\u001b[39m\n\u001b[32m    389\u001b[39m         \u001b[38;5;28;01mraise\u001b[39;00m \u001b[38;5;167;01mValueError\u001b[39;00m(\n\u001b[32m    390\u001b[39m             \u001b[33m\"\u001b[39m\u001b[33mMime type rendering requires ipython but it is not installed\u001b[39m\u001b[33m\"\u001b[39m\n\u001b[32m    391\u001b[39m         )\n\u001b[32m    393\u001b[39m     \u001b[38;5;28;01mif\u001b[39;00m \u001b[38;5;129;01mnot\u001b[39;00m nbformat \u001b[38;5;129;01mor\u001b[39;00m Version(nbformat.__version__) < Version(\u001b[33m\"\u001b[39m\u001b[33m4.2.0\u001b[39m\u001b[33m\"\u001b[39m):\n\u001b[32m--> \u001b[39m\u001b[32m394\u001b[39m         \u001b[38;5;28;01mraise\u001b[39;00m \u001b[38;5;167;01mValueError\u001b[39;00m(\n\u001b[32m    395\u001b[39m             \u001b[33m\"\u001b[39m\u001b[33mMime type rendering requires nbformat>=4.2.0 but it is not installed\u001b[39m\u001b[33m\"\u001b[39m\n\u001b[32m    396\u001b[39m         )\n\u001b[32m    398\u001b[39m     ipython_display.display(bundle, raw=\u001b[38;5;28;01mTrue\u001b[39;00m)\n\u001b[32m    400\u001b[39m \u001b[38;5;66;03m# external renderers\u001b[39;00m\n",
      "\u001b[31mValueError\u001b[39m: Mime type rendering requires nbformat>=4.2.0 but it is not installed"
     ]
    }
   ],
   "source": [
    "# ==============================================================\n",
    "# EURUSD – 4H Çift SMA Back-test (tqdm + adım bildirimli)\n",
    "# ==============================================================\n",
    "\n",
    "from pathlib import Path\n",
    "import pandas as pd, numpy as np, vectorbt as vbt\n",
    "from tqdm.auto import tqdm\n",
    "\n",
    "# ---------- AYARLAR --------------------------------------------------------\n",
    "DATA_DIR = Path(r\"C:\\DukascopyData\")          # ← Parquet klasörü\n",
    "FILE     = DATA_DIR / \"EURUSD_1min.parquet\"\n",
    "\n",
    "FREQ_STR = \"4h\"                               # yıllıklaştırma frekansı\n",
    "FAST_W   = np.arange(10, 41, 5)\n",
    "SLOW_W   = np.arange(60, 181, 20)\n",
    "MC_SIM   = 1000\n",
    "# ---------------------------------------------------------------------------\n",
    "\n",
    "print(\"► Veri okunuyor…\")\n",
    "price_1m = pd.read_parquet(FILE)[\"EURUSD\"]\n",
    "price_4h = price_1m.resample(\"4H\").last().dropna()\n",
    "\n",
    "split_date = price_4h.index[0] + pd.DateOffset(years=9)\n",
    "price_in, price_out = price_4h.loc[:split_date], price_4h.loc[split_date:]\n",
    "\n",
    "# -------- 1) PARAMETRE TARAMASI -------------------------------------------\n",
    "print(\"\\n=== 1) PARAMETRE TARAMASI BAŞLADI ===\")\n",
    "best_sharpe = -np.inf\n",
    "best_fast = best_slow = None\n",
    "\n",
    "grid_bar = tqdm(total=len(FAST_W) * len(SLOW_W), desc=\"Grid\")\n",
    "for f in FAST_W:\n",
    "    for s in SLOW_W:\n",
    "        f_ma = vbt.MA.run(price_in, window=f)\n",
    "        s_ma = vbt.MA.run(price_in, window=s)\n",
    "        entries = f_ma.ma_crossed_above(s_ma)\n",
    "        exits   = f_ma.ma_crossed_below(s_ma)\n",
    "\n",
    "        pf = vbt.Portfolio.from_signals(price_in, entries, exits)\n",
    "        sharpe = pf.sharpe_ratio(freq=FREQ_STR)\n",
    "\n",
    "        if sharpe > best_sharpe:\n",
    "            best_sharpe, best_fast, best_slow = sharpe, f, s\n",
    "\n",
    "        grid_bar.set_postfix({\"fast\": f, \"slow\": s, \"Sharpe\": f\"{sharpe:.2f}\"})\n",
    "        grid_bar.update(1)\n",
    "\n",
    "grid_bar.close()\n",
    "print(f\"→ En iyi Sharpe: {best_sharpe:.2f}  (fast={best_fast}, slow={best_slow})\")\n",
    "\n",
    "# -------- 2) OUT-OF-SAMPLE TEST -------------------------------------------\n",
    "\n",
    "print(\"\\n=== 2) OUT-OF-SAMPLE TEST BAŞLIYOR ===\")\n",
    "f_ma_o = vbt.MA.run(price_out, window=best_fast)\n",
    "s_ma_o = vbt.MA.run(price_out, window=best_slow)\n",
    "\n",
    "pf_o = vbt.Portfolio.from_signals(\n",
    "    price_out,\n",
    "    f_ma_o.ma_crossed_above(s_ma_o),\n",
    "    f_ma_o.ma_crossed_below(s_ma_o)\n",
    ")\n",
    "\n",
    "oos_stats = pd.Series({\n",
    "    \"total_return\":   pf_o.total_return(),\n",
    "    \"sharpe\":         pf_o.sharpe_ratio(freq=FREQ_STR),\n",
    "    \"max_drawdown\":   pf_o.max_drawdown()\n",
    "})\n",
    "print(oos_stats)\n",
    "pf_o.plot().show()\n",
    "\n",
    "\n",
    "\n",
    "# -------- 3) MONTE-CARLO ---------------------------------------------------\n",
    "print(\"\\n=== 3) MONTE-CARLO SİMÜLASYONU ===\")\n",
    "mc_bar = tqdm(range(MC_SIM), desc=\"Monte-Carlo\")\n",
    "mc_ret, mc_dd = [], []\n",
    "\n",
    "for _ in mc_bar:\n",
    "    mc_pf = pf_o.mc_simulate(n_simulations=1)\n",
    "    mc_ret.append(mc_pf.mc_returns().iloc[0])\n",
    "    mc_dd.append(mc_pf.mc_max_drawdowns().iloc[0])\n",
    "    mc_bar.set_postfix({\n",
    "        \"ret%\": f\"{mc_ret[-1]*100:.1f}\",\n",
    "        \"mdd%\": f\"{mc_dd[-1]*100:.1f}\"\n",
    "    })\n",
    "\n",
    "mc_bar.close()\n",
    "p5, p50, p95 = np.percentile(mc_ret, [5, 50, 95]) * 100\n",
    "print(f\"\\nMonte-Carlo getirileri — 5/50/95 persentil: \"\n",
    "      f\"{p5:.1f} %, {p50:.1f} %, {p95:.1f} %\")\n"
   ]
  }
 ],
 "metadata": {
  "kernelspec": {
   "display_name": ".venv",
   "language": "python",
   "name": "python3"
  },
  "language_info": {
   "codemirror_mode": {
    "name": "ipython",
    "version": 3
   },
   "file_extension": ".py",
   "mimetype": "text/x-python",
   "name": "python",
   "nbconvert_exporter": "python",
   "pygments_lexer": "ipython3",
   "version": "3.13.3"
  }
 },
 "nbformat": 4,
 "nbformat_minor": 2
}
