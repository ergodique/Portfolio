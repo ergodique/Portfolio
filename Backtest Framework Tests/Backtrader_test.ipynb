{
 "cells": [
  {
   "cell_type": "markdown",
   "metadata": {},
   "source": [
    "This is script for beta calculation. "
   ]
  },
  {
   "cell_type": "code",
   "execution_count": 3,
   "metadata": {},
   "outputs": [
    {
     "name": "stdout",
     "output_type": "stream",
     "text": [
      "Calculating betas for -->  BTC-USD\n",
      "           30_days   60_days   90_days  180_days  365_days    St_Dev\n",
      "SOL-USD   1.239139  1.206505  1.120014  1.195050  1.209853  0.044498\n",
      "AVAX-USD  1.250717  1.242822  1.197463  1.237758  1.207966  0.023252\n",
      "ETH-USD   1.059378  1.109469  1.099833  1.061382  0.964554  0.057316\n",
      "BNB-USD   0.787039  0.728906  0.753739  0.779664  0.683985  0.041872\n"
     ]
    }
   ],
   "source": [
    "import yfinance as yf\n",
    "import pandas as pd\n",
    "import numpy as np\n",
    "\n",
    "def calculate_beta(stock_returns, market_returns):\n",
    "    covariance_matrix = np.cov(stock_returns, market_returns)\n",
    "    beta = covariance_matrix[0, 1] / covariance_matrix[1, 1]\n",
    "    return beta\n",
    "\n",
    "def get_stock_data(ticker, start_date):\n",
    "    stock_data = yf.download(ticker, start=start_date, progress=False)\n",
    "    stock_data['Returns'] = stock_data['Adj Close'].pct_change()\n",
    "    return stock_data\n",
    "\n",
    "def calculate_betas(stock_tickers, reference_ticker, lookback_periods):\n",
    "    end_date = pd.to_datetime('today')\n",
    "    results = {}\n",
    "    \n",
    "    for stock in stock_tickers:\n",
    "        results[stock] = {}\n",
    "        for days in lookback_periods:\n",
    "            start_date = (end_date - pd.Timedelta(days=days)).strftime('%Y-%m-%d')\n",
    "            \n",
    "            stock_data = get_stock_data(stock, start_date)\n",
    "            reference_data = get_stock_data(reference_ticker, start_date)\n",
    "            \n",
    "            merged_data = pd.merge(stock_data['Returns'], reference_data['Returns'], left_index=True, right_index=True, suffixes=('_stock', '_reference')).dropna()\n",
    "            \n",
    "            stock_returns = merged_data['Returns_stock']\n",
    "            reference_returns = merged_data['Returns_reference']\n",
    "            \n",
    "            beta = calculate_beta(stock_returns, reference_returns)\n",
    "            results[stock][f'{days}_days'] = beta\n",
    "    \n",
    "    return pd.DataFrame(results)\n",
    "\n",
    "# Define the stocks and the reference stock\n",
    "stock_tickers = ['SOL-USD', 'AVAX-USD', 'ETH-USD','BNB-USD']\n",
    "reference_ticker = 'BTC-USD'\n",
    "lookback_periods = [30, 60, 90, 180, 365]\n",
    "\n",
    "# Calculate the betas\n",
    "betas = calculate_betas(stock_tickers, reference_ticker, lookback_periods)\n",
    "\n",
    "# Transpose the DataFrame for better readability\n",
    "betas_transposed = betas.transpose()\n",
    "\n",
    "# Calculate the standard deviation of each stock's betas and add it as a new column\n",
    "betas_transposed['St_Dev'] = betas_transposed.std(axis=1)\n",
    "\n",
    "# Display the results\n",
    "print(\"Calculating betas for --> \", reference_ticker)\n",
    "print(betas_transposed)\n"
   ]
  }
 ],
 "metadata": {
  "kernelspec": {
   "display_name": ".venv",
   "language": "python",
   "name": "python3"
  },
  "language_info": {
   "codemirror_mode": {
    "name": "ipython",
    "version": 3
   },
   "file_extension": ".py",
   "mimetype": "text/x-python",
   "name": "python",
   "nbconvert_exporter": "python",
   "pygments_lexer": "ipython3",
   "version": "3.12.1"
  }
 },
 "nbformat": 4,
 "nbformat_minor": 2
}
