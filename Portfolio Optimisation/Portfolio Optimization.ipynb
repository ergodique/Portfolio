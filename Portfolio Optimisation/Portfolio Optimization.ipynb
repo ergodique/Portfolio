{
 "cells": [
  {
   "cell_type": "markdown",
   "id": "20de89a0",
   "metadata": {},
   "source": [
    "In this project I'll show how to make portfolio optimisation for the given assets. Assets could vary from single stocks to ETFs or mutual fund data.\n",
    "\n",
    "I'll feed the program with the returns of given assets and it will give me the weights of the optimal portfolio using the 'Efficient Frontier' approach. First let's start with some information on the portfolio optimization techniques and the one I'll be using for this project.\n",
    "\n",
    "Portfolio optimization is the process of selecting a combination of investments that maximize returns for a given level of risk or minimize risk for a given level of return. It is a central component of modern finance and is used to help investors make informed decisions about how to allocate their assets.\n",
    "\n",
    "There are several best practice techniques for portfolio optimization that have been developed over the years by financial experts and academics. Some of the most widely used techniques include:\n",
    "\n",
    "Markowitz Portfolio Optimization: Developed by Harry Markowitz in the 1950s, this is one of the earliest and most widely used techniques for portfolio optimization. It involves using statistical methods to determine the optimal combination of assets that provide the highest expected return for a given level of risk, or the lowest risk for a given level of return.\n",
    "\n",
    "Black-Litterman Model: This model is an extension of the Markowitz model and takes into account the views and opinions of the investor when determining the optimal portfolio. It allows the investor to specify their own expected returns for different assets, which can be used to adjust the optimal portfolio.\n",
    "\n",
    "Mean-Variance Optimization: This technique is similar to the Markowitz model and involves optimizing the portfolio by minimizing the variance of the portfolio's returns while also maximizing expected return.\n",
    "\n",
    "Risk Parity Portfolio: This portfolio construction technique seeks to allocate assets such that each asset contributes equally to the portfolio's overall risk. This can result in a more balanced and diversified portfolio.\n",
    "\n",
    "Maximum Diversification Portfolio: This portfolio construction technique seeks to maximize the diversification of the portfolio by maximizing the number of uncorrelated assets in the portfolio.\n",
    "\n",
    "Minimum Variance Portfolio: This portfolio construction technique seeks to minimize the portfolio's overall risk by selecting the combination of assets that have the lowest expected risk.\n",
    "\n",
    "In this project I'll be using Markowitz Portfolio Optimization and using the 'Efficient Frontier' approach.\n",
    "\n",
    "The steps one should go over when optimizing a portfolio with this method are as the following:\n",
    "\n",
    "-Estimation of expected returns: The expected returns for each asset in the portfolio are estimated based on historical data or other sources of information.\n",
    "\n",
    "-Calculation of covariance matrix: The covariance between the returns of different assets is calculated to determine the risk associated with holding a portfolio of assets.\n",
    "\n",
    "-Construction of the efficient frontier: The efficient frontier is constructed by plotting the expected returns and standard deviations of all possible portfolios and selecting the portfolios that offer the highest expected return for a given level of risk, or the lowest risk for a given level of return.\n",
    "\n",
    "-Portfolio selection: The portfolio that lies on the efficient frontier that provides the highest expected return for a given level of risk, or the lowest risk for a given level of return, is selected as the optimal portfolio.\n",
    "\n",
    "A note on assumptions: It is important to note that Markowitz Portfolio Optimization makes certain assumptions, such as the normality of asset returns and the constancy of covariances over time. While these assumptions are reasonable in many cases, they may not always hold, so it is important to be aware of the limitations of the model when using it for portfolio optimization."
   ]
  },
  {
   "cell_type": "code",
   "execution_count": 54,
   "id": "35993423",
   "metadata": {},
   "outputs": [
    {
     "name": "stdout",
     "output_type": "stream",
     "text": [
      "Mean: \n",
      " TCD           0.635166\n",
      "IPV           0.309381\n",
      "GOLD          0.060630\n",
      "BTC           2.320312\n",
      "Unnamed: 5         NaN\n",
      "Unnamed: 6    6.943070\n",
      "dtype: float64\n",
      "Cov_matrix: \n",
      "                   TCD       IPV      GOLD        BTC  Unnamed: 5  Unnamed: 6\n",
      "TCD         0.680586  0.069431  0.026831  -0.982230         NaN         NaN\n",
      "IPV         0.069431  0.055562 -0.005683  -0.292395         NaN         NaN\n",
      "GOLD        0.026831 -0.005683  0.014970   0.209889         NaN         NaN\n",
      "BTC        -0.982230 -0.292395  0.209889  21.153686         NaN         NaN\n",
      "Unnamed: 5       NaN       NaN       NaN        NaN         NaN         NaN\n",
      "Unnamed: 6       NaN       NaN       NaN        NaN         NaN         NaN\n",
      "Mean returns and standard deviations for the assets\n",
      "{2023: {'mean': 1.5143, 'stdev': 3.0514}, 2022: {'mean': 0.4635, 'stdev': 1.2742}, 2021: {'mean': 0.4991, 'stdev': 0.4289}, 2020: {'mean': 1.1842, 'stdev': 1.2842}, 2019: {'mean': 0.6715, 'stdev': 0.5268}, 2018: {'mean': -0.0971, 'stdev': 0.4479}, 2017: {'mean': 3.4343, 'stdev': 6.5838}, 2016: {'mean': 0.3383, 'stdev': 0.6159}}\n"
     ]
    }
   ],
   "source": [
    "import numpy as np\n",
    "import pandas as pd\n",
    "import matplotlib.pyplot as plt\n",
    "from scipy.optimize import minimize\n",
    "\n",
    "# Load the data into a pandas DataFrame\n",
    "\n",
    "df = pd.read_excel('annual_returns.xlsx', sheet_name='Sheet1',index_col=0)\n",
    "# df = pd.read_excel(\"annual_returns.xlsx\")\n",
    "numeric_cols = df.select_dtypes(include=['float64', 'int64'])\n",
    "df[numeric_cols.columns] = numeric_cols / 100\n",
    "#print(df)\n",
    "\n",
    "# Calculate mean and variance of returns for each asset\n",
    "mean_returns = df.mean()\n",
    "cov_matrix = df.cov()\n",
    "\n",
    "print('Mean: \\n' ,mean_returns)\n",
    "print('Cov_matrix: \\n ' ,cov_matrix)\n",
    "\n",
    "# calculate the row-wise average and store in a dictionary\n",
    "row_meanstd = {}\n",
    "for index, row in df.iterrows():\n",
    "    row_mean = round(row.mean(),4)\n",
    "    row_std = round(row.std(),4)\n",
    "    row_meanstd[index] = {'mean': row_mean, 'stdev': row_std}\n",
    "\n",
    "print(\"Mean returns and standard deviations for the assets\")\n",
    "print(row_meanstd)"
   ]
  },
  {
   "cell_type": "code",
   "execution_count": 55,
   "id": "dd582af2",
   "metadata": {},
   "outputs": [
    {
     "name": "stdout",
     "output_type": "stream",
     "text": [
      "Weights: [0.16666667 0.16666667 0.16666667 0.16666667 0.16666667 0.16666667]\n",
      "Expected return: nan\n",
      "Volatility: nan\n"
     ]
    },
    {
     "data": {
      "image/png": "[encoded data removed]",
      "text/plain": [
       "<Figure size 640x480 with 1 Axes>"
      ]
     },
     "metadata": {},
     "output_type": "display_data"
    }
   ],
   "source": [
    "\n",
    "# Number of assets\n",
    "num_assets = len(mean_returns)\n",
    "\n",
    "# Define objective function for optimization\n",
    "def portfolio_variance(weights):\n",
    "    return np.dot(weights.T, np.dot(cov_matrix, weights))\n",
    "\n",
    "# Define constraint that weights must sum to 1 and can't be negative\n",
    "constraints = ({'type': 'eq', 'fun': lambda x: np.sum(x) - 1},\n",
    "               {'type': 'ineq', 'fun': lambda x: x})\n",
    "\n",
    "\n",
    "# Define bounds for weights (between 0 and 1)\n",
    "bounds = tuple((0, 1) for i in range(num_assets))\n",
    "\n",
    "# Define initial guess for weights (equal weights)\n",
    "init_guess = [1/num_assets] * num_assets\n",
    "\n",
    "# Use scipy minimize function to optimize portfolio\n",
    "efficient_portfolio = minimize(portfolio_variance, init_guess, method='SLSQP', \n",
    "                               constraints=constraints, bounds=bounds)\n",
    "\n",
    "# Extract weights of efficient portfolio\n",
    "weights = efficient_portfolio.x\n",
    "\n",
    "# Calculate returns and volatility of efficient portfolio\n",
    "portfolio_return = np.dot(weights.T, mean_returns)\n",
    "portfolio_volatility = np.sqrt(np.dot(weights.T, np.dot(cov_matrix, weights)))\n",
    "\n",
    "# Print results\n",
    "print(f'Weights: {weights}')\n",
    "print(f'Expected return: {portfolio_return:.2f}')\n",
    "print(f'Volatility: {portfolio_volatility:.2f}')\n",
    "\n",
    "\n",
    "\n",
    "\n",
    "# Plot efficient frontier\n",
    "portfolio_returns = []\n",
    "portfolio_volatilities = []\n",
    "for i in range(100):\n",
    "    weights = np.random.rand(num_assets)\n",
    "    weights /= np.sum(weights)\n",
    "    portfolio_returns.append(np.dot(weights.T, mean_returns))\n",
    "    portfolio_volatilities.append(np.sqrt(np.dot(weights.T, np.dot(cov_matrix, weights))))\n",
    "portfolio_returns = np.array(portfolio_returns)\n",
    "portfolio_volatilities = np.array(portfolio_volatilities)\n",
    "plt.scatter(portfolio_volatilities, portfolio_returns, marker='.', color='gray')\n",
    "plt.title('Efficient Frontier')\n",
    "plt.xlabel('Volatility')\n",
    "plt.ylabel('Expected Return')\n",
    "plt.show()\n"
   ]
  },
  {
   "cell_type": "code",
   "execution_count": null,
   "id": "bc15f1bd",
   "metadata": {},
   "outputs": [],
   "source": []
  }
 ],
 "metadata": {
  "kernelspec": {
   "display_name": "Python 3 (ipykernel)",
   "language": "python",
   "name": "python3"
  },
  "language_info": {
   "codemirror_mode": {
    "name": "ipython",
    "version": 3
   },
   "file_extension": ".py",
   "mimetype": "text/x-python",
   "name": "python",
   "nbconvert_exporter": "python",
   "pygments_lexer": "ipython3",
   "version": "3.9.7"
  }
 },
 "nbformat": 4,
 "nbformat_minor": 5
}
